{
  "nbformat": 4,
  "nbformat_minor": 0,
  "metadata": {
    "colab": {
      "name": "Tensorflow_Linear_regression.ipynb",
      "version": "0.3.2",
      "provenance": [],
      "collapsed_sections": [],
      "include_colab_link": true
    },
    "kernelspec": {
      "name": "python3",
      "display_name": "Python 3"
    }
  },
  "cells": [
    {
      "cell_type": "markdown",
      "metadata": {
        "id": "view-in-github",
        "colab_type": "text"
      },
      "source": [
        "<a href=\"https://colab.research.google.com/github/vishnu772/Simple-Image-Classification/blob/master/Tensorflow_Linear_regression.ipynb\" target=\"_parent\"><img src=\"https://colab.research.google.com/assets/colab-badge.svg\" alt=\"Open In Colab\"/></a>"
      ]
    },
    {
      "metadata": {
        "id": "9NiwwQCo56ME",
        "colab_type": "code",
        "colab": {}
      },
      "cell_type": "code",
      "source": [
        "import tensorflow as tf\n",
        "import numpy as np\n",
        "from sklearn.datasets import load_boston\n",
        "from sklearn.preprocessing import scale\n",
        "\n",
        "\n",
        "# Get the data\n",
        "total_features, total_prices = load_boston(True)\n",
        "\n",
        "# Keep 300 samples for training\n",
        "train_features = scale(total_features[:300])\n",
        "train_prices = total_prices[:300]\n",
        "\n",
        "# Keep 100 samples for validation\n",
        "valid_features = scale(total_features[300:400])\n",
        "valid_prices = total_prices[300:400]\n",
        "\n",
        "# Keep remaining samples as test set \n",
        "test_features = scale(total_features[400:])\n",
        "test_prices = total_prices[400:]"
      ],
      "execution_count": 0,
      "outputs": []
    },
    {
      "metadata": {
        "id": "ucjNnlznvZP4",
        "colab_type": "code",
        "colab": {}
      },
      "cell_type": "code",
      "source": [
        "def calc(x,y):\n",
        "  \n",
        "  pred=tf.add(b,tf.matmul(x,w))\n",
        "  error=tf.reduce_mean(tf.square(y-pred))\n",
        "  return [pred,error]\n"
      ],
      "execution_count": 0,
      "outputs": []
    },
    {
      "metadata": {
        "id": "iu8UlgosxuDD",
        "colab_type": "code",
        "colab": {}
      },
      "cell_type": "code",
      "source": [
        "w = tf.Variable(tf.truncated_normal([13, 1], mean=0.0, stddev=1.0, dtype=tf.float64))\n",
        "b = tf.Variable(tf.zeros(1, dtype = tf.float64))\n",
        "\n",
        "y,cost=calc(train_features,train_prices)\n",
        "learning_rate=0.01\n",
        "epoch=100\n",
        "init=tf.global_variables_initializer()\n",
        "optimizer=tf.train.GradientDescentOptimizer(learning_rate).minimize(cost)"
      ],
      "execution_count": 0,
      "outputs": []
    },
    {
      "metadata": {
        "id": "OgbMRZUZzUmX",
        "colab_type": "code",
        "outputId": "d5072ab2-cf1a-4f0e-8e8a-5352b95b882a",
        "colab": {
          "base_uri": "https://localhost:8080/",
          "height": 87
        }
      },
      "cell_type": "code",
      "source": [
        "with tf.Session() as sess:\n",
        "  sess.run(init)\n",
        "  for i in range(epoch):\n",
        "    sess.run(optimizer)\n",
        "    \n",
        "  valid_cost = calc(valid_features, valid_prices)[1]\n",
        "\n",
        "  print('Validation error =', sess.run(valid_cost), '\\n')\n",
        "\n",
        "  test_cost = calc(test_features, test_prices)[1]\n",
        "  print('Test error =', sess.run(test_cost), '\\n')"
      ],
      "execution_count": 0,
      "outputs": [
        {
          "output_type": "stream",
          "text": [
            "Validation error = 86.02869481858221 \n",
            "\n",
            "Test error = 70.64400967215333 \n",
            "\n"
          ],
          "name": "stdout"
        }
      ]
    },
    {
      "metadata": {
        "id": "1yvVxNDx_aIY",
        "colab_type": "code",
        "outputId": "dd853a5a-5a47-46ce-b063-e1a096ac5a67",
        "colab": {
          "base_uri": "https://localhost:8080/",
          "height": 451
        }
      },
      "cell_type": "code",
      "source": [
        ""
      ],
      "execution_count": 0,
      "outputs": [
        {
          "output_type": "stream",
          "text": [
            "[[-1.89977255]\n",
            " [ 0.70446962]\n",
            " [-1.02275633]\n",
            " [ 0.36235066]\n",
            " [-0.78855157]\n",
            " [ 1.16715975]\n",
            " [-0.23883518]\n",
            " [ 1.76728297]\n",
            " [-0.50957994]\n",
            " [-0.62554194]\n",
            " [-1.07377924]\n",
            " [-1.24027987]\n",
            " [ 0.12456896]] [[-0.18734212]\n",
            " [-0.7255982 ]\n",
            " [-0.76493454]\n",
            " [-0.46130906]\n",
            " [ 0.11757092]\n",
            " [ 0.55548121]\n",
            " [-0.49963334]\n",
            " [-1.09290742]\n",
            " [-0.53530523]\n",
            " [-1.67420884]\n",
            " [ 0.85237815]\n",
            " [ 1.96033552]\n",
            " [ 1.42896803]]\n"
          ],
          "name": "stdout"
        }
      ]
    }
  ]
}