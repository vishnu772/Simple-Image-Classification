{
  "nbformat": 4,
  "nbformat_minor": 0,
  "metadata": {
    "colab": {
      "name": "CNN sample basic.ipynb",
      "version": "0.3.2",
      "provenance": [],
      "collapsed_sections": [],
      "include_colab_link": true
    },
    "kernelspec": {
      "name": "python3",
      "display_name": "Python 3"
    }
  },
  "cells": [
    {
      "cell_type": "markdown",
      "metadata": {
        "id": "view-in-github",
        "colab_type": "text"
      },
      "source": [
        "<a href=\"https://colab.research.google.com/github/vishnu772/Simple-Image-Classification/blob/master/CNN_sample_basic.ipynb\" target=\"_parent\"><img src=\"https://colab.research.google.com/assets/colab-badge.svg\" alt=\"Open In Colab\"/></a>"
      ]
    },
    {
      "metadata": {
        "id": "E3VJ-1o3Fmv0",
        "colab_type": "code",
        "colab": {}
      },
      "cell_type": "code",
      "source": [
        "from keras.layers import Dense,Conv2D,Flatten,MaxPool2D,Dropout\n",
        "from keras import Sequential\n",
        "import matplotlib.pyplot as plt\n",
        "from keras.datasets import mnist"
      ],
      "execution_count": 0,
      "outputs": []
    },
    {
      "metadata": {
        "id": "C1b-BGNWGHmB",
        "colab_type": "code",
        "colab": {}
      },
      "cell_type": "code",
      "source": [
        "(x_train,y_train),(x_test,y_test)=mnist.load_data()"
      ],
      "execution_count": 0,
      "outputs": []
    },
    {
      "metadata": {
        "id": "q_IbWOexGfpF",
        "colab_type": "code",
        "outputId": "3da197f2-b87b-4a8c-fcef-35b6b38642de",
        "colab": {
          "base_uri": "https://localhost:8080/",
          "height": 366
        }
      },
      "cell_type": "code",
      "source": [
        "plt.subplot(221)\n",
        "plt.imshow(x_train[0])\n",
        "plt.subplot(222)\n",
        "plt.imshow(x_train[1])\n",
        "plt.subplot(223)\n",
        "plt.imshow(x_train[2])\n",
        "plt.subplot(224)\n",
        "plt.imshow(x_train[3])\n",
        "\n"
      ],
      "execution_count": 0,
      "outputs": [
        {
          "output_type": "execute_result",
          "data": {
            "text/plain": [
              "<matplotlib.image.AxesImage at 0x7f6bb708a160>"
            ]
          },
          "metadata": {
            "tags": []
          },
          "execution_count": 70
        },
        {
          "output_type": "display_data",
          "data": {
            "image/png": "[encoded data removed]",
            "text/plain": [
              "<matplotlib.figure.Figure at 0x7f6bb71cad30>"
            ]
          },
          "metadata": {
            "tags": []
          }
        }
      ]
    },
    {
      "metadata": {
        "id": "43soVxMiHdbh",
        "colab_type": "code",
        "outputId": "afe3955b-65a2-4285-fc0c-f016bd1ddcd3",
        "colab": {
          "base_uri": "https://localhost:8080/",
          "height": 365
        }
      },
      "cell_type": "code",
      "source": [
        "x_t=x_train/255\n",
        "\n",
        "plt.imshow(x_t[0])"
      ],
      "execution_count": 0,
      "outputs": [
        {
          "output_type": "execute_result",
          "data": {
            "text/plain": [
              "<matplotlib.image.AxesImage at 0x7f6bb74487b8>"
            ]
          },
          "metadata": {
            "tags": []
          },
          "execution_count": 41
        },
        {
          "output_type": "display_data",
          "data": {
            "image/png": "[encoded data removed]",
            "text/plain": [
              "<matplotlib.figure.Figure at 0x7f6bb772c400>"
            ]
          },
          "metadata": {
            "tags": []
          }
        }
      ]
    },
    {
      "metadata": {
        "id": "8epmKvEVNftU",
        "colab_type": "code",
        "colab": {}
      },
      "cell_type": "code",
      "source": [
        "x_train = x_train.reshape(x_train.shape[0], 28, 28,1).astype('float32')\n",
        "x_test = x_test.reshape(x_test.shape[0], 28, 28,1).astype('float32')"
      ],
      "execution_count": 0,
      "outputs": []
    },
    {
      "metadata": {
        "id": "EHPhNACzHdd0",
        "colab_type": "code",
        "outputId": "9f937d51-f7b3-46cd-95ba-a5a1a12340bc",
        "colab": {
          "base_uri": "https://localhost:8080/",
          "height": 35
        }
      },
      "cell_type": "code",
      "source": [
        "x_train.shape\n",
        "\n"
      ],
      "execution_count": 0,
      "outputs": [
        {
          "output_type": "execute_result",
          "data": {
            "text/plain": [
              "(60000, 28, 28, 1)"
            ]
          },
          "metadata": {
            "tags": []
          },
          "execution_count": 72
        }
      ]
    },
    {
      "metadata": {
        "id": "gDJLld07M_74",
        "colab_type": "code",
        "colab": {}
      },
      "cell_type": "code",
      "source": [
        "# we normalize them for better prediction\n",
        "x_train=x_train/255\n",
        "x_test=x_test/255"
      ],
      "execution_count": 0,
      "outputs": []
    },
    {
      "metadata": {
        "id": "EwcCrHH3JmrN",
        "colab_type": "code",
        "outputId": "e2263000-9870-4b86-f91c-3e847796598d",
        "colab": {
          "base_uri": "https://localhost:8080/",
          "height": 35
        }
      },
      "cell_type": "code",
      "source": [
        "from keras.utils import np_utils\n",
        "\n",
        "y_train=np_utils.to_categorical(y_train)\n",
        "y_test=np_utils.to_categorical(y_test)\n",
        "print(y_train[0])"
      ],
      "execution_count": 0,
      "outputs": [
        {
          "output_type": "stream",
          "text": [
            "[0. 0. 0. 0. 0. 1. 0. 0. 0. 0.]\n"
          ],
          "name": "stdout"
        }
      ]
    },
    {
      "metadata": {
        "id": "Ei_1_r20LLzm",
        "colab_type": "code",
        "colab": {}
      },
      "cell_type": "code",
      "source": [
        ""
      ],
      "execution_count": 0,
      "outputs": []
    },
    {
      "metadata": {
        "id": "ncshfsdtHLK0",
        "colab_type": "code",
        "outputId": "0287aa45-095b-4761-88be-f2fca03ad591",
        "colab": {
          "base_uri": "https://localhost:8080/",
          "height": 399
        }
      },
      "cell_type": "code",
      "source": [
        "\n",
        "\n",
        "model=Sequential()\n",
        "model.add(Conv2D(32,kernel_size=(5,5),input_shape=(28,28,1),activation='relu'))\n",
        "model.add(MaxPool2D(2))\n",
        "model.add(Dropout(0.2))\n",
        "model.add(Flatten())\n",
        "\n",
        "model.add(Dense(128,activation='relu'))\n",
        "\n",
        "model.add(Dense(10,activation='softmax'))\n",
        "model.compile(optimizer='adam',loss='categorical_crossentropy',metrics=['accuracy'])\n",
        "model.fit(x_train,y_train,epochs=10,verbose=1,validation_split=0.2,batch_size=200)\n",
        "\n"
      ],
      "execution_count": 0,
      "outputs": [
        {
          "output_type": "stream",
          "text": [
            "Train on 48000 samples, validate on 12000 samples\n",
            "Epoch 1/10\n",
            "48000/48000 [==============================] - 40s 830us/step - loss: 0.2734 - acc: 0.9219 - val_loss: 0.0946 - val_acc: 0.9721\n",
            "Epoch 2/10\n",
            "48000/48000 [==============================] - 39s 820us/step - loss: 0.0827 - acc: 0.9758 - val_loss: 0.0679 - val_acc: 0.9813\n",
            "Epoch 3/10\n",
            "48000/48000 [==============================] - 39s 815us/step - loss: 0.0594 - acc: 0.9816 - val_loss: 0.0562 - val_acc: 0.9829\n",
            "Epoch 4/10\n",
            "48000/48000 [==============================] - 39s 818us/step - loss: 0.0467 - acc: 0.9856 - val_loss: 0.0499 - val_acc: 0.9853\n",
            "Epoch 5/10\n",
            "48000/48000 [==============================] - 39s 817us/step - loss: 0.0386 - acc: 0.9881 - val_loss: 0.0446 - val_acc: 0.9863\n",
            "Epoch 6/10\n",
            "48000/48000 [==============================] - 39s 814us/step - loss: 0.0312 - acc: 0.9897 - val_loss: 0.0449 - val_acc: 0.9863\n",
            "Epoch 7/10\n",
            "48000/48000 [==============================] - 39s 811us/step - loss: 0.0266 - acc: 0.9915 - val_loss: 0.0401 - val_acc: 0.9882\n",
            "Epoch 8/10\n",
            "48000/48000 [==============================] - 39s 813us/step - loss: 0.0239 - acc: 0.9924 - val_loss: 0.0433 - val_acc: 0.9883\n",
            "Epoch 9/10\n",
            "48000/48000 [==============================] - 39s 815us/step - loss: 0.0191 - acc: 0.9937 - val_loss: 0.0430 - val_acc: 0.9871\n",
            "Epoch 10/10\n",
            "48000/48000 [==============================] - 39s 818us/step - loss: 0.0176 - acc: 0.9944 - val_loss: 0.0490 - val_acc: 0.9865\n"
          ],
          "name": "stdout"
        },
        {
          "output_type": "execute_result",
          "data": {
            "text/plain": [
              "<keras.callbacks.History at 0x7f6bb6f85c18>"
            ]
          },
          "metadata": {
            "tags": []
          },
          "execution_count": 75
        }
      ]
    },
    {
      "metadata": {
        "id": "qMFsGgFVNhwz",
        "colab_type": "code",
        "outputId": "fb4700e4-d97e-4180-8d6a-35e7e1e0cc20",
        "colab": {
          "base_uri": "https://localhost:8080/",
          "height": 69
        }
      },
      "cell_type": "code",
      "source": [
        "scores = model.evaluate(x_test, y_test, verbose=1)\n",
        "print(scores)\n",
        "print(\"Large CNN Error: %.2f%%\" % (100-scores[1]*100))"
      ],
      "execution_count": 0,
      "outputs": [
        {
          "output_type": "stream",
          "text": [
            "10000/10000 [==============================] - 4s 382us/step\n",
            "[0.035557686447663585, 0.9885]\n",
            "Large CNN Error: 1.15%\n"
          ],
          "name": "stdout"
        }
      ]
    }
  ]
}