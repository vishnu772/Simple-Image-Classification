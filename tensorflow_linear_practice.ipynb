{
  "nbformat": 4,
  "nbformat_minor": 0,
  "metadata": {
    "colab": {
      "name": "tensorflow_linear_practice.ipynb",
      "version": "0.3.2",
      "provenance": [],
      "collapsed_sections": [],
      "include_colab_link": true
    },
    "kernelspec": {
      "name": "python3",
      "display_name": "Python 3"
    }
  },
  "cells": [
    {
      "cell_type": "markdown",
      "metadata": {
        "id": "view-in-github",
        "colab_type": "text"
      },
      "source": [
        "<a href=\"https://colab.research.google.com/github/vishnu772/Simple-Image-Classification/blob/master/tensorflow_linear_practice.ipynb\" target=\"_parent\"><img src=\"https://colab.research.google.com/assets/colab-badge.svg\" alt=\"Open In Colab\"/></a>"
      ]
    },
    {
      "metadata": {
        "id": "FrQwmcb3qxOZ",
        "colab_type": "code",
        "colab": {}
      },
      "cell_type": "code",
      "source": [
        "import tensorflow as tf\n",
        "from sklearn.datasets import load_boston\n",
        "import  matplotlib.pyplot as plt\n",
        "from sklearn.preprocessing import scale"
      ],
      "execution_count": 0,
      "outputs": []
    },
    {
      "metadata": {
        "id": "G8FETM0YrEbs",
        "colab_type": "code",
        "colab": {}
      },
      "cell_type": "code",
      "source": [
        "x,y=load_boston(True)"
      ],
      "execution_count": 0,
      "outputs": []
    },
    {
      "metadata": {
        "id": "yRyhg7yGrLb9",
        "colab_type": "code",
        "colab": {
          "base_uri": "https://localhost:8080/",
          "height": 52
        },
        "outputId": "85772f1c-a97b-4411-897d-781543287e53"
      },
      "cell_type": "code",
      "source": [
        "print(type(x),x.shape)\n",
        "print(type(y),y.shape)"
      ],
      "execution_count": 47,
      "outputs": [
        {
          "output_type": "stream",
          "text": [
            "<class 'numpy.ndarray'> (506, 13)\n",
            "<class 'numpy.ndarray'> (506,)\n"
          ],
          "name": "stdout"
        }
      ]
    },
    {
      "metadata": {
        "id": "wHIiossErYnC",
        "colab_type": "code",
        "colab": {}
      },
      "cell_type": "code",
      "source": [
        "# Get the data\n",
        "total_features, total_prices = load_boston(True)\n",
        "\n",
        "# Keep 300 samples for training\n",
        "train_features = scale(total_features[:300])\n",
        "train_prices = total_prices[:300]\n",
        "\n",
        "# Keep 100 samples for validation\n",
        "valid_features = scale(total_features[300:400])\n",
        "valid_prices = total_prices[300:400]\n",
        "\n",
        "# Keep remaining samples as test set \n",
        "test_features = scale(total_features[400:])\n",
        "test_prices = total_prices[400:]"
      ],
      "execution_count": 0,
      "outputs": []
    },
    {
      "metadata": {
        "id": "ARyRmzKg-1lZ",
        "colab_type": "code",
        "colab": {}
      },
      "cell_type": "code",
      "source": [
        "#we write a code to calculate the price \n",
        "def calc(xd,yd):\n",
        "  pred=tf.add(b,tf.matmul(xd,w))\n",
        "  error=tf.reduce_mean(tf.square(yd-pred))\n",
        "  return([pred,error])"
      ],
      "execution_count": 0,
      "outputs": []
    },
    {
      "metadata": {
        "id": "JPh-FG4D_Hua",
        "colab_type": "code",
        "colab": {}
      },
      "cell_type": "code",
      "source": [
        "w=tf.Variable(tf.truncated_normal([13,1],mean=0.0,stddev=1.0,dtype=tf.float64))\n",
        "b=tf.Variable(tf.zeros(1, dtype = tf.float64))\n",
        "learning_rate=0.01\n",
        "epo=100\n",
        "pt=[[],[]]\n",
        "y,cost=calc(train_features,train_prices)\n",
        "init=tf.global_variables_initializer()\n",
        "\n",
        "optimizer=tf.train.GradientDescentOptimizer(learning_rate).minimize(cost)\n",
        "\n"
      ],
      "execution_count": 0,
      "outputs": []
    },
    {
      "metadata": {
        "id": "3OpQ-fBEC3Al",
        "colab_type": "code",
        "colab": {
          "base_uri": "https://localhost:8080/",
          "height": 403
        },
        "outputId": "77eef0df-7c2f-4f98-9ca1-03ab0bf81596"
      },
      "cell_type": "code",
      "source": [
        "with tf.Session() as sess:\n",
        "  \n",
        "  init.run()\n",
        "  for i in range(epo):\n",
        "    optimizer.run()\n",
        "    if i%10==0:\n",
        "      pt[0].append(i+1)\n",
        "      pt[1].append(sess.run(cost))\n",
        "    if i%100==0:\n",
        "      print(sess.run(cost))\n",
        "  \n",
        "  \n",
        "  plt.plot(pt[0],pt[1],'r--')\n",
        "  plt.axis([0,epo,50,600])\n",
        "  plt.show()\n",
        "  valid_cost=calc(valid_features,valid_prices)[1]\n",
        "  print(\"validation cost is \", sess.run(valid_cost))\n",
        "  \n",
        "  test=calc(test_features,test_prices)[1]\n",
        "  print(\"test score\",sess.run(test))"
      ],
      "execution_count": 59,
      "outputs": [
        {
          "output_type": "stream",
          "text": [
            "709.2226275541958\n"
          ],
          "name": "stdout"
        },
        {
          "output_type": "display_data",
          "data": {
            "image/png": "[encoded data removed]",
            "text/plain": [
              "<matplotlib.figure.Figure at 0x7f76b1f5e748>"
            ]
          },
          "metadata": {
            "tags": []
          }
        },
        {
          "output_type": "stream",
          "text": [
            "validation cost is  85.19594568288065\n",
            "test score 69.35708847377016\n"
          ],
          "name": "stdout"
        }
      ]
    },
    {
      "metadata": {
        "id": "xHzIOyGrApGd",
        "colab_type": "code",
        "colab": {
          "base_uri": "https://localhost:8080/",
          "height": 35
        },
        "outputId": "68200549-64c4-42a0-e79e-6fba3d0dac15"
      },
      "cell_type": "code",
      "source": [
        "\n"
      ],
      "execution_count": 33,
      "outputs": [
        {
          "output_type": "execute_result",
          "data": {
            "text/plain": [
              "(300, 13)"
            ]
          },
          "metadata": {
            "tags": []
          },
          "execution_count": 33
        }
      ]
    },
    {
      "metadata": {
        "id": "6DermTNH6nKu",
        "colab_type": "code",
        "colab": {
          "base_uri": "https://localhost:8080/",
          "height": 1057
        },
        "outputId": "02e71e1d-f187-453a-e955-4abfac73d5a9"
      },
      "cell_type": "code",
      "source": [
        "pt"
      ],
      "execution_count": 57,
      "outputs": [
        {
          "output_type": "execute_result",
          "data": {
            "text/plain": [
              "[[1,\n",
              "  11,\n",
              "  21,\n",
              "  31,\n",
              "  41,\n",
              "  51,\n",
              "  61,\n",
              "  71,\n",
              "  81,\n",
              "  91,\n",
              "  1,\n",
              "  11,\n",
              "  21,\n",
              "  31,\n",
              "  41,\n",
              "  51,\n",
              "  61,\n",
              "  71,\n",
              "  81,\n",
              "  91,\n",
              "  1,\n",
              "  11,\n",
              "  21,\n",
              "  31,\n",
              "  41,\n",
              "  51,\n",
              "  61,\n",
              "  71,\n",
              "  81,\n",
              "  91],\n",
              " [708.063698914804,\n",
              "  498.87062976543416,\n",
              "  359.3551339599843,\n",
              "  266.26403992747726,\n",
              "  204.12646808549562,\n",
              "  162.63671398867814,\n",
              "  134.92502186214503,\n",
              "  116.4098347290424,\n",
              "  104.03454194718624,\n",
              "  95.75934422379044,\n",
              "  705.2491218724587,\n",
              "  497.08316655888166,\n",
              "  358.1670983702404,\n",
              "  265.43300919658,\n",
              "  203.5183624158466,\n",
              "  162.17516079024313,\n",
              "  134.5644402938096,\n",
              "  116.12157791083625,\n",
              "  103.79968975896641,\n",
              "  95.56485232771259,\n",
              "  712.9057301912602,\n",
              "  500.99910110679076,\n",
              "  360.6794014398198,\n",
              "  267.1584024582638,\n",
              "  204.73729222008825,\n",
              "  163.0532290088437,\n",
              "  135.2077784842956,\n",
              "  116.60032608478303,\n",
              "  104.16108181041173,\n",
              "  95.84119961378794]]"
            ]
          },
          "metadata": {
            "tags": []
          },
          "execution_count": 57
        }
      ]
    },
    {
      "metadata": {
        "id": "BSWUHmK--lM_",
        "colab_type": "code",
        "colab": {}
      },
      "cell_type": "code",
      "source": [
        ""
      ],
      "execution_count": 0,
      "outputs": []
    },
    {
      "metadata": {
        "id": "grlE_Q1r8d3g",
        "colab_type": "code",
        "colab": {
          "base_uri": "https://localhost:8080/",
          "height": 260
        },
        "outputId": "0c6bd0c2-5f48-4eda-beac-d888d74a641d"
      },
      "cell_type": "code",
      "source": [
        "\n"
      ],
      "execution_count": 28,
      "outputs": [
        {
          "output_type": "stream",
          "text": [
            "[0.]\n",
            "[[-1.6283529 ]\n",
            " [ 0.35899404]\n",
            " [ 0.5899151 ]\n",
            " [ 1.6685411 ]\n",
            " [ 0.32741162]\n",
            " [-0.4650657 ]\n",
            " [-1.1018578 ]\n",
            " [ 0.59566325]\n",
            " [-0.6642005 ]\n",
            " [-0.14206938]\n",
            " [-0.01426971]\n",
            " [ 1.3932316 ]\n",
            " [ 0.9191854 ]]\n"
          ],
          "name": "stdout"
        }
      ]
    }
  ]
}