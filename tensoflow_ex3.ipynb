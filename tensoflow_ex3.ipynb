{
  "nbformat": 4,
  "nbformat_minor": 0,
  "metadata": {
    "colab": {
      "name": "tensoflow_ex3.ipynb",
      "version": "0.3.2",
      "provenance": [],
      "include_colab_link": true
    },
    "kernelspec": {
      "name": "python3",
      "display_name": "Python 3"
    }
  },
  "cells": [
    {
      "cell_type": "markdown",
      "metadata": {
        "id": "view-in-github",
        "colab_type": "text"
      },
      "source": [
        "<a href=\"https://colab.research.google.com/github/vishnu772/Simple-Image-Classification/blob/master/tensoflow_ex3.ipynb\" target=\"_parent\"><img src=\"https://colab.research.google.com/assets/colab-badge.svg\" alt=\"Open In Colab\"/></a>"
      ]
    },
    {
      "metadata": {
        "id": "S97kvf7k4sWF",
        "colab_type": "code",
        "colab": {
          "base_uri": "https://localhost:8080/",
          "height": 104
        },
        "outputId": "78c598d4-48b3-419e-932d-6760957afdb1"
      },
      "cell_type": "code",
      "source": [
        "import tensorflow as tf \n",
        "import numpy as np\n",
        "\n",
        "\n",
        "average = tf.Variable(0, name = 'y')\n",
        "\n",
        "model = tf.global_variables_initializer()\n",
        "\n",
        "\n",
        "with tf.Session() as session:\n",
        "\tsession.run(model)\n",
        "\tfor i in range(5):\n",
        "\t\tx = np.random.randint(1000)\n",
        "\t\taverage = (average + x) / 2\n",
        "\t\tprint(session.run(average))\n"
      ],
      "execution_count": 1,
      "outputs": [
        {
          "output_type": "stream",
          "text": [
            "357.5\n",
            "620.75\n",
            "513.875\n",
            "468.4375\n",
            "354.71875\n"
          ],
          "name": "stdout"
        }
      ]
    }
  ]
}