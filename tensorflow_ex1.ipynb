{
  "nbformat": 4,
  "nbformat_minor": 0,
  "metadata": {
    "colab": {
      "name": "tensorflow_ex1.ipynb",
      "version": "0.3.2",
      "provenance": [],
      "include_colab_link": true
    },
    "kernelspec": {
      "name": "python3",
      "display_name": "Python 3"
    }
  },
  "cells": [
    {
      "cell_type": "markdown",
      "metadata": {
        "id": "view-in-github",
        "colab_type": "text"
      },
      "source": [
        "<a href=\"https://colab.research.google.com/github/vishnu772/Simple-Image-Classification/blob/master/tensorflow_ex1.ipynb\" target=\"_parent\"><img src=\"https://colab.research.google.com/assets/colab-badge.svg\" alt=\"Open In Colab\"/></a>"
      ]
    },
    {
      "metadata": {
        "id": "ZNScAAmEzleG",
        "colab_type": "code",
        "colab": {
          "base_uri": "https://localhost:8080/",
          "height": 35
        },
        "outputId": "2a77fd41-821b-4684-8dc0-1f9ac50abdcc"
      },
      "cell_type": "code",
      "source": [
        "import numpy as np \n",
        "import tensorflow as tf\n",
        "\n",
        "x = np.random.randint(1000, size = 10000)\n",
        "y = tf.Variable(3 * pow(x, 2) - 3 * x + 20, name = 'y')\n",
        "\n",
        "model = tf.global_variables_initializer()\n",
        "\n",
        "with tf.Session() as session:\n",
        "\tsession.run(model)\n",
        "\tprint(session.run(y))"
      ],
      "execution_count": 2,
      "outputs": [
        {
          "output_type": "stream",
          "text": [
            "[  51896   27956 1804220 ...   49556 2710370 2024606]\n"
          ],
          "name": "stdout"
        }
      ]
    }
  ]
}