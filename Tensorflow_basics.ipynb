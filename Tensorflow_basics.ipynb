{
  "nbformat": 4,
  "nbformat_minor": 0,
  "metadata": {
    "colab": {
      "name": "Tensorflow_basics.ipynb",
      "version": "0.3.2",
      "provenance": [],
      "collapsed_sections": [],
      "include_colab_link": true
    },
    "kernelspec": {
      "name": "python3",
      "display_name": "Python 3"
    }
  },
  "cells": [
    {
      "cell_type": "markdown",
      "metadata": {
        "id": "view-in-github",
        "colab_type": "text"
      },
      "source": [
        "<a href=\"https://colab.research.google.com/github/vishnu772/Simple-Image-Classification/blob/master/Tensorflow_basics.ipynb\" target=\"_parent\"><img src=\"https://colab.research.google.com/assets/colab-badge.svg\" alt=\"Open In Colab\"/></a>"
      ]
    },
    {
      "metadata": {
        "id": "3d1C4qXGbKJg",
        "colab_type": "text"
      },
      "cell_type": "markdown",
      "source": [
        "basics of tensor flow"
      ]
    },
    {
      "metadata": {
        "id": "9VXb6QGocwoi",
        "colab_type": "code",
        "outputId": "9605df85-4b71-4da0-95da-1990fcc1237e",
        "colab": {
          "base_uri": "https://localhost:8080/",
          "height": 35
        }
      },
      "cell_type": "code",
      "source": [
        "import tensorflow as tf\n",
        "\n",
        "hello=tf.constant('3d')\n",
        "\n",
        "sess = tf.Session()\n",
        "print(sess.run(hello))\n",
        "\n",
        "\n",
        "\n",
        "\n",
        "\n"
      ],
      "execution_count": 0,
      "outputs": [
        {
          "output_type": "stream",
          "text": [
            "b'3d'\n"
          ],
          "name": "stdout"
        }
      ]
    },
    {
      "metadata": {
        "id": "R-a-6YY0bIUr",
        "colab_type": "text"
      },
      "cell_type": "markdown",
      "source": [
        "Here we just initialised the constant and ran in a session or we can also run as below"
      ]
    },
    {
      "metadata": {
        "id": "gKo6c01rdQzh",
        "colab_type": "code",
        "outputId": "d677b294-24a0-478e-d1cb-4116d4cd0103",
        "colab": {
          "base_uri": "https://localhost:8080/",
          "height": 35
        }
      },
      "cell_type": "code",
      "source": [
        "with tf.Session() as sess:\n",
        "  print(hello.eval())\n",
        "  "
      ],
      "execution_count": 0,
      "outputs": [
        {
          "output_type": "stream",
          "text": [
            "b'3d'\n"
          ],
          "name": "stdout"
        }
      ]
    },
    {
      "metadata": {
        "id": "pHWnHp9LEB1B",
        "colab_type": "code",
        "colab": {}
      },
      "cell_type": "code",
      "source": [
        "def simple(a,b):\n",
        "  x=tf.placeholder(tf.uint8)\n",
        "  y=tf.placeholder(tf.uint8)\n",
        "  z=x*y\n",
        "  with tf.Session() as tt:\n",
        "    print(z.eval(feed_dict={x:a,y:b}))\n",
        "    \n"
      ],
      "execution_count": 0,
      "outputs": []
    },
    {
      "metadata": {
        "id": "NOjrDEdcFAf0",
        "colab_type": "code",
        "outputId": "a7f5206b-3b0a-41e6-9e07-c73577ebe889",
        "colab": {
          "base_uri": "https://localhost:8080/",
          "height": 35
        }
      },
      "cell_type": "code",
      "source": [
        "simple(4,5)"
      ],
      "execution_count": 0,
      "outputs": [
        {
          "output_type": "stream",
          "text": [
            "20\n"
          ],
          "name": "stdout"
        }
      ]
    },
    {
      "metadata": {
        "id": "SMyEIIlWcY0E",
        "colab_type": "text"
      },
      "cell_type": "markdown",
      "source": [
        "Here we define a place holder to give imput at run time and by using the with block the session will close automatically at the end."
      ]
    },
    {
      "metadata": {
        "id": "9IPsgHtiEPds",
        "colab_type": "code",
        "outputId": "1784ce8a-be34-4fbe-b5b5-380c4a7c1404",
        "colab": {
          "base_uri": "https://localhost:8080/",
          "height": 35
        }
      },
      "cell_type": "code",
      "source": [
        "def simple(a,b):\n",
        "  import tensorflow as tf\n",
        "  x=tf.placeholder(tf.uint8)\n",
        "  y=tf.placeholder(tf.uint8)\n",
        "  z=tf.multiply(x,y)\n",
        "  with tf.Session() as tt:\n",
        "    print(z.eval(feed_dict={x:a,y:b}))\n",
        "\n",
        "    \n",
        "simple(7,5)\n",
        "  \n",
        "  "
      ],
      "execution_count": 0,
      "outputs": [
        {
          "output_type": "stream",
          "text": [
            "35\n"
          ],
          "name": "stdout"
        }
      ]
    },
    {
      "metadata": {
        "id": "p4iUawJJuQVL",
        "colab_type": "text"
      },
      "cell_type": "markdown",
      "source": [
        "Inside the with block, the session is set as the default session. Calling x.initializer.run() is equivalent to calling tf.get_default_session().run(x.initial\n",
        "izer), and similarly f.eval() is equivalent to calling\n",
        "tf.get_default_session().run(f). This makes the code easier to read. Moreover,\n",
        "the session is automatically closed at the end of the block."
      ]
    },
    {
      "metadata": {
        "id": "_rQvAY2wuQ6t",
        "colab_type": "code",
        "colab": {}
      },
      "cell_type": "code",
      "source": [
        ""
      ],
      "execution_count": 0,
      "outputs": []
    },
    {
      "metadata": {
        "id": "rzW-h3f1c2LY",
        "colab_type": "code",
        "outputId": "52803bba-ea87-4f80-d67d-1e3c84921787",
        "colab": {
          "base_uri": "https://localhost:8080/",
          "height": 35
        }
      },
      "cell_type": "code",
      "source": [
        "import tensorflow as tf\n",
        "a=tf.Variable(3,name='a')\n",
        "b=tf.Variable(4,name='b')\n",
        "f=a*a*b+b+2\n",
        "\n",
        "with tf.Session() as sept:\n",
        "  a.initializer.run()\n",
        "  b.initializer.run()\n",
        "  result=f.eval()\n",
        "  print(result)\n",
        "  \n"
      ],
      "execution_count": 0,
      "outputs": [
        {
          "output_type": "stream",
          "text": [
            "42\n"
          ],
          "name": "stdout"
        }
      ]
    },
    {
      "metadata": {
        "id": "JRKMa6Qcubn0",
        "colab_type": "text"
      },
      "cell_type": "markdown",
      "source": [
        "Instead of manually running the initializer for every single variable, you can use the\n",
        "global_variables_initializer() function. Note that it does not actually perform\n",
        "the initialization immediately, but rather creates a node in the graph that will initialize\n",
        "all variables when it is run:"
      ]
    },
    {
      "metadata": {
        "id": "yX1rdB0pufnV",
        "colab_type": "code",
        "outputId": "19b091b2-e745-4082-f618-c2128f02ae86",
        "colab": {
          "base_uri": "https://localhost:8080/",
          "height": 35
        }
      },
      "cell_type": "code",
      "source": [
        "x=tf.Variable(3,name=\"a\")\n",
        "y=tf.Variable(4,name=\"b\")\n",
        "z=tf.multiply(x,y)\n",
        "init=tf.global_variables_initializer()\n",
        "\n",
        "with tf.Session() as td:\n",
        "  init.run()\n",
        "  print(z.eval())\n",
        "  "
      ],
      "execution_count": 0,
      "outputs": [
        {
          "output_type": "stream",
          "text": [
            "12\n"
          ],
          "name": "stdout"
        }
      ]
    },
    {
      "metadata": {
        "id": "o9nE88LteEQn",
        "colab_type": "code",
        "outputId": "2351c813-4be1-4f02-a7e0-97f422659f7a",
        "colab": {
          "base_uri": "https://localhost:8080/",
          "height": 35
        }
      },
      "cell_type": "code",
      "source": [
        "sess=tf.Session()\n",
        "sess.run(a.initializer)\n",
        "sess.run(b.initializer)\n",
        "result=sess.run(f)\n",
        "print(result)\n"
      ],
      "execution_count": 0,
      "outputs": [
        {
          "output_type": "stream",
          "text": [
            "42\n"
          ],
          "name": "stdout"
        }
      ]
    },
    {
      "metadata": {
        "id": "w2C9zm3NwfmF",
        "colab_type": "text"
      },
      "cell_type": "markdown",
      "source": [
        "Inside Jupyter or within a Python shell you may prefer to create an InteractiveSession. The only difference from a regular Session is that when an InteractiveSes\n",
        "sion is created it automatically sets itself as the default session, so you don’t need a with block (but you do need to close the session manually when you are done with\n",
        "it):"
      ]
    },
    {
      "metadata": {
        "id": "gpKbawtvesHK",
        "colab_type": "code",
        "colab": {}
      },
      "cell_type": "code",
      "source": [
        "sess=tf.InteractiveSession()\n",
        "init.run()\n",
        "result=z.eval()\n",
        "print(result)\n",
        "sess.close()"
      ],
      "execution_count": 0,
      "outputs": []
    },
    {
      "metadata": {
        "id": "RQoEYU0Mxwic",
        "colab_type": "code",
        "outputId": "248d7f54-b617-4521-cf73-a0394c6ec456",
        "colab": {
          "base_uri": "https://localhost:8080/",
          "height": 35
        }
      },
      "cell_type": "code",
      "source": [
        "x.graph is tf.get_default_graph()"
      ],
      "execution_count": 0,
      "outputs": [
        {
          "output_type": "execute_result",
          "data": {
            "text/plain": [
              "True"
            ]
          },
          "metadata": {
            "tags": []
          },
          "execution_count": 26
        }
      ]
    },
    {
      "metadata": {
        "id": "sh1-bX6j0sSn",
        "colab_type": "text"
      },
      "cell_type": "markdown",
      "source": [
        "In Jupyter (or in a Python shell), it is common to run the same\n",
        "commands more than once while you are experimenting. As a\n",
        "result, you may end up with a default graph containing many\n",
        "duplicate nodes. One solution is to restart the Jupyter kernel (or\n",
        "the Python shell), but a more convenient solution is to just reset the\n",
        "default graph by running tf.reset_default_graph()."
      ]
    },
    {
      "metadata": {
        "id": "0mfRhCKG0tMd",
        "colab_type": "code",
        "colab": {}
      },
      "cell_type": "code",
      "source": [
        "tf.reset_default_graph()"
      ],
      "execution_count": 0,
      "outputs": []
    }
  ]
}