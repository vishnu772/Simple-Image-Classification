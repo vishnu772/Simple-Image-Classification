{
  "nbformat": 4,
  "nbformat_minor": 0,
  "metadata": {
    "colab": {
      "name": "mnist_dataset.ipynb",
      "version": "0.3.2",
      "provenance": [],
      "collapsed_sections": [],
      "include_colab_link": true
    },
    "kernelspec": {
      "name": "python3",
      "display_name": "Python 3"
    }
  },
  "cells": [
    {
      "cell_type": "markdown",
      "metadata": {
        "id": "view-in-github",
        "colab_type": "text"
      },
      "source": [
        "<a href=\"https://colab.research.google.com/github/vishnu772/Simple-Image-Classification/blob/master/mnist_dataset.ipynb\" target=\"_parent\"><img src=\"https://colab.research.google.com/assets/colab-badge.svg\" alt=\"Open In Colab\"/></a>"
      ]
    },
    {
      "metadata": {
        "id": "5BZHhY7paKnb",
        "colab_type": "code",
        "colab": {
          "base_uri": "https://localhost:8080/",
          "height": 35
        },
        "outputId": "a91ca91e-9423-412b-e0b3-99fa956a3a18"
      },
      "cell_type": "code",
      "source": [
        "#This is basic implementation of image classfication in keras \n",
        "#First we import all the requires packages\n",
        "from keras import Sequential\n",
        "from keras.layers import Dense\n",
        "from keras.datasets import mnist\n",
        "import numpy as np\n",
        "from keras.utils import np_utils"
      ],
      "execution_count": 2,
      "outputs": [
        {
          "output_type": "stream",
          "text": [
            "Using TensorFlow backend.\n"
          ],
          "name": "stderr"
        }
      ]
    },
    {
      "metadata": {
        "id": "15bVSgcNvo4f",
        "colab_type": "text"
      },
      "cell_type": "markdown",
      "source": [
        ""
      ]
    },
    {
      "metadata": {
        "id": "OJfRQdb9aVAi",
        "colab_type": "code",
        "colab": {}
      },
      "cell_type": "code",
      "source": [
        "# Here we import the sequntial model and dense layer \n",
        "from keras import Sequential\n",
        "from keras.layers import Dense"
      ],
      "execution_count": 0,
      "outputs": []
    },
    {
      "metadata": {
        "id": "8KDEMzgCUrKI",
        "colab_type": "code",
        "colab": {}
      },
      "cell_type": "code",
      "source": [
        "#Here we do this analysis on open source available data mnist here we import it\n",
        "\n",
        "(x_train, y_train), (x_test, y_test) =mnist.load_data()"
      ],
      "execution_count": 0,
      "outputs": []
    },
    {
      "metadata": {
        "id": "jdCl1HAIVVeu",
        "colab_type": "code",
        "outputId": "1b33f1d8-aef2-4f0f-e3b8-60235b94149e",
        "colab": {
          "base_uri": "https://localhost:8080/",
          "height": 349
        }
      },
      "cell_type": "code",
      "source": [
        "# we plot first 4 images \n",
        "\n",
        "import matplotlib.pyplot as plt\n",
        "\n",
        "plt.subplot(221)\n",
        "plt.imshow(x_train[0], cmap=plt.get_cmap('gray'))\n",
        "plt.subplot(222)\n",
        "plt.imshow(x_train[1], cmap=plt.get_cmap('gray'))\n",
        "plt.subplot(223)\n",
        "plt.imshow(x_train[2], cmap=plt.get_cmap('gray'))\n",
        "plt.subplot(224)\n",
        "plt.imshow(x_train[3], cmap=plt.get_cmap('gray'))\n",
        "# show the plot\n",
        "plt.show()"
      ],
      "execution_count": 5,
      "outputs": [
        {
          "output_type": "display_data",
          "data": {
            "image/png": "[encoded data removed]",
            "text/plain": [
              "<matplotlib.figure.Figure at 0x7f5c4634ee80>"
            ]
          },
          "metadata": {
            "tags": []
          }
        }
      ]
    },
    {
      "metadata": {
        "id": "Ap-_MNkqKotZ",
        "colab_type": "code",
        "colab": {}
      },
      "cell_type": "code",
      "source": [
        "# the images are of size 28*28 so we convert them to sigle vector of 784 pixels \n",
        "\n",
        "x_train=x_train.reshape(x_train.shape[0],784)\n",
        "x_test=x_test.reshape(x_test.shape[0],784)\n",
        "\n",
        "# we normalize them for better prediction\n",
        "x_train=x_train/255\n",
        "x_test=x_test/255\n",
        "\n"
      ],
      "execution_count": 0,
      "outputs": []
    },
    {
      "metadata": {
        "id": "r2rjF3wpmCSr",
        "colab_type": "code",
        "colab": {}
      },
      "cell_type": "code",
      "source": [
        "# Convert the target label to numeric\n",
        "\n",
        "y_train=np_utils.to_categorical(y_train)\n",
        "y_test=np_utils.to_categorical(y_test)"
      ],
      "execution_count": 0,
      "outputs": []
    },
    {
      "metadata": {
        "id": "ktt5xoiKK8bX",
        "colab_type": "code",
        "colab": {
          "base_uri": "https://localhost:8080/",
          "height": 35
        },
        "outputId": "ebaa3ab7-7299-4cfc-c636-656fe2bb68f7"
      },
      "cell_type": "code",
      "source": [
        "y_train[0]"
      ],
      "execution_count": 8,
      "outputs": [
        {
          "output_type": "execute_result",
          "data": {
            "text/plain": [
              "array([0., 0., 0., 0., 0., 1., 0., 0., 0., 0.], dtype=float32)"
            ]
          },
          "metadata": {
            "tags": []
          },
          "execution_count": 8
        }
      ]
    },
    {
      "metadata": {
        "id": "OKgoFrxdr0BV",
        "colab_type": "code",
        "colab": {}
      },
      "cell_type": "code",
      "source": [
        "# we build a simple model of 1 hidden layer\n",
        "\n",
        "model=Sequential()\n",
        "model.add(Dense(784,activation='relu',input_shape=(784,)))\n",
        "model.add(Dense(10,activation='softmax'))\n"
      ],
      "execution_count": 0,
      "outputs": []
    },
    {
      "metadata": {
        "id": "r1-CrcAis0GQ",
        "colab_type": "code",
        "colab": {}
      },
      "cell_type": "code",
      "source": [
        "model.compile(optimizer='adam',metrics=['accuracy'],loss='categorical_crossentropy')"
      ],
      "execution_count": 0,
      "outputs": []
    },
    {
      "metadata": {
        "id": "5kFyE5HHlIN0",
        "colab_type": "code",
        "outputId": "d3f7b225-4c8a-417f-bb0a-0ec40afed33e",
        "colab": {
          "base_uri": "https://localhost:8080/",
          "height": 399
        }
      },
      "cell_type": "code",
      "source": [
        "model.fit(x_train,y_train,epochs=10,validation_data=(x_test,y_test), batch_size=200, verbose=2)"
      ],
      "execution_count": 0,
      "outputs": [
        {
          "output_type": "stream",
          "text": [
            "Train on 60000 samples, validate on 10000 samples\n",
            "Epoch 1/10\n",
            " - 7s - loss: 0.2756 - acc: 0.9217 - val_loss: 0.1542 - val_acc: 0.9526\n",
            "Epoch 2/10\n",
            " - 6s - loss: 0.1116 - acc: 0.9686 - val_loss: 0.1013 - val_acc: 0.9675\n",
            "Epoch 3/10\n",
            " - 6s - loss: 0.0721 - acc: 0.9789 - val_loss: 0.0720 - val_acc: 0.9775\n",
            "Epoch 4/10\n",
            " - 6s - loss: 0.0507 - acc: 0.9852 - val_loss: 0.0686 - val_acc: 0.9780\n",
            "Epoch 5/10\n",
            " - 6s - loss: 0.0358 - acc: 0.9900 - val_loss: 0.0683 - val_acc: 0.9806\n",
            "Epoch 6/10\n",
            " - 6s - loss: 0.0280 - acc: 0.9922 - val_loss: 0.0617 - val_acc: 0.9808\n",
            "Epoch 7/10\n",
            " - 6s - loss: 0.0207 - acc: 0.9944 - val_loss: 0.0624 - val_acc: 0.9804\n",
            "Epoch 8/10\n",
            " - 6s - loss: 0.0152 - acc: 0.9964 - val_loss: 0.0599 - val_acc: 0.9817\n",
            "Epoch 9/10\n",
            " - 6s - loss: 0.0114 - acc: 0.9973 - val_loss: 0.0593 - val_acc: 0.9817\n",
            "Epoch 10/10\n",
            " - 6s - loss: 0.0086 - acc: 0.9980 - val_loss: 0.0625 - val_acc: 0.9807\n"
          ],
          "name": "stdout"
        },
        {
          "output_type": "execute_result",
          "data": {
            "text/plain": [
              "<keras.callbacks.History at 0x7f1e33faea58>"
            ]
          },
          "metadata": {
            "tags": []
          },
          "execution_count": 45
        }
      ]
    },
    {
      "metadata": {
        "id": "R89Dlv-qlgtl",
        "colab_type": "code",
        "outputId": "036612ea-a313-4da5-dc0d-f8119edc8344",
        "colab": {
          "base_uri": "https://localhost:8080/",
          "height": 52
        }
      },
      "cell_type": "code",
      "source": [
        "# model predicted accuracy of 98 %\n",
        "\n",
        "sc=model.evaluate(x_test,y_test,verbose=1)\n",
        "print(sc)"
      ],
      "execution_count": 0,
      "outputs": [
        {
          "output_type": "stream",
          "text": [
            "10000/10000 [==============================] - 1s 74us/step\n",
            "[0.06249143584102567, 0.9807]\n"
          ],
          "name": "stdout"
        }
      ]
    }
  ]
}